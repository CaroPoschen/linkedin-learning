{
 "cells": [
  {
   "cell_type": "code",
   "id": "initial_id",
   "metadata": {
    "collapsed": true,
    "ExecuteTime": {
     "end_time": "2025-01-05T12:51:27.880756Z",
     "start_time": "2025-01-05T12:51:27.690155Z"
    }
   },
   "source": "import pandas as pd",
   "outputs": [],
   "execution_count": 2
  },
  {
   "metadata": {
    "ExecuteTime": {
     "end_time": "2025-01-05T12:51:28.853698Z",
     "start_time": "2025-01-05T12:51:28.774732Z"
    }
   },
   "cell_type": "code",
   "source": "orders = pd.read_excel('data/H+ Sport Orders.xlsx')",
   "id": "9edcfb64b5fb5a84",
   "outputs": [],
   "execution_count": 3
  },
  {
   "metadata": {
    "ExecuteTime": {
     "end_time": "2025-01-05T12:51:35.965436Z",
     "start_time": "2025-01-05T12:51:35.955562Z"
    }
   },
   "cell_type": "code",
   "source": "orders.head()",
   "id": "a49ca420ebfbd62f",
   "outputs": [
    {
     "data": {
      "text/plain": [
       "   OrderID        Date TotalDue    Status  CustomerID  SalespersonID  \\\n",
       "0     1000  05/14/2016  $140.91      paid         413            130   \n",
       "1     1001  07/31/2016  $105.32  returned         128            102   \n",
       "2     1002  07/09/2016  $217.30  past due         791            115   \n",
       "3     1003  04/04/2016  $281.39      paid         974            139   \n",
       "4     1004  02/16/2016  $254.76      paid         866            102   \n",
       "\n",
       "   CustomersComment  SalespersonsComment  \n",
       "0               NaN                  NaN  \n",
       "1               NaN                  NaN  \n",
       "2               NaN                  NaN  \n",
       "3               NaN                  NaN  \n",
       "4               NaN                  NaN  "
      ],
      "text/html": [
       "<div>\n",
       "<style scoped>\n",
       "    .dataframe tbody tr th:only-of-type {\n",
       "        vertical-align: middle;\n",
       "    }\n",
       "\n",
       "    .dataframe tbody tr th {\n",
       "        vertical-align: top;\n",
       "    }\n",
       "\n",
       "    .dataframe thead th {\n",
       "        text-align: right;\n",
       "    }\n",
       "</style>\n",
       "<table border=\"1\" class=\"dataframe\">\n",
       "  <thead>\n",
       "    <tr style=\"text-align: right;\">\n",
       "      <th></th>\n",
       "      <th>OrderID</th>\n",
       "      <th>Date</th>\n",
       "      <th>TotalDue</th>\n",
       "      <th>Status</th>\n",
       "      <th>CustomerID</th>\n",
       "      <th>SalespersonID</th>\n",
       "      <th>CustomersComment</th>\n",
       "      <th>SalespersonsComment</th>\n",
       "    </tr>\n",
       "  </thead>\n",
       "  <tbody>\n",
       "    <tr>\n",
       "      <th>0</th>\n",
       "      <td>1000</td>\n",
       "      <td>05/14/2016</td>\n",
       "      <td>$140.91</td>\n",
       "      <td>paid</td>\n",
       "      <td>413</td>\n",
       "      <td>130</td>\n",
       "      <td>NaN</td>\n",
       "      <td>NaN</td>\n",
       "    </tr>\n",
       "    <tr>\n",
       "      <th>1</th>\n",
       "      <td>1001</td>\n",
       "      <td>07/31/2016</td>\n",
       "      <td>$105.32</td>\n",
       "      <td>returned</td>\n",
       "      <td>128</td>\n",
       "      <td>102</td>\n",
       "      <td>NaN</td>\n",
       "      <td>NaN</td>\n",
       "    </tr>\n",
       "    <tr>\n",
       "      <th>2</th>\n",
       "      <td>1002</td>\n",
       "      <td>07/09/2016</td>\n",
       "      <td>$217.30</td>\n",
       "      <td>past due</td>\n",
       "      <td>791</td>\n",
       "      <td>115</td>\n",
       "      <td>NaN</td>\n",
       "      <td>NaN</td>\n",
       "    </tr>\n",
       "    <tr>\n",
       "      <th>3</th>\n",
       "      <td>1003</td>\n",
       "      <td>04/04/2016</td>\n",
       "      <td>$281.39</td>\n",
       "      <td>paid</td>\n",
       "      <td>974</td>\n",
       "      <td>139</td>\n",
       "      <td>NaN</td>\n",
       "      <td>NaN</td>\n",
       "    </tr>\n",
       "    <tr>\n",
       "      <th>4</th>\n",
       "      <td>1004</td>\n",
       "      <td>02/16/2016</td>\n",
       "      <td>$254.76</td>\n",
       "      <td>paid</td>\n",
       "      <td>866</td>\n",
       "      <td>102</td>\n",
       "      <td>NaN</td>\n",
       "      <td>NaN</td>\n",
       "    </tr>\n",
       "  </tbody>\n",
       "</table>\n",
       "</div>"
      ]
     },
     "execution_count": 4,
     "metadata": {},
     "output_type": "execute_result"
    }
   ],
   "execution_count": 4
  }
 ],
 "metadata": {
  "kernelspec": {
   "display_name": "Python 3",
   "language": "python",
   "name": "python3"
  },
  "language_info": {
   "codemirror_mode": {
    "name": "ipython",
    "version": 2
   },
   "file_extension": ".py",
   "mimetype": "text/x-python",
   "name": "python",
   "nbconvert_exporter": "python",
   "pygments_lexer": "ipython2",
   "version": "2.7.6"
  }
 },
 "nbformat": 4,
 "nbformat_minor": 5
}
